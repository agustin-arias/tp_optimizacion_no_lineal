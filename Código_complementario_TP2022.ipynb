{
 "cells": [
  {
   "cell_type": "markdown",
   "id": "50cf4039",
   "metadata": {},
   "source": [
    "### Código complementario para el TP de Optimización no Lineal"
   ]
  },
  {
   "cell_type": "code",
   "execution_count": null,
   "id": "ad88bf36",
   "metadata": {},
   "outputs": [],
   "source": [
    "# EJERCICIO 3 - TOMAR EL TIEMPO\n",
    "\n",
    "from time import time\n",
    "\n",
    "s = time()\n",
    "\n",
    "#########################################################\n",
    "# CODIGO AL CUAL SE LE DESEA MEDIR EL TIEMPO DE EJECUCION\n",
    "#########################################################\n",
    "\n",
    "print('Tiempo de ejecucion: ', time() - s)"
   ]
  },
  {
   "cell_type": "code",
   "execution_count": null,
   "id": "2a6c39b4",
   "metadata": {},
   "outputs": [],
   "source": [
    "# EJERCICIO 3 - CHOLESKY\n",
    "\n",
    "# Sea A simetrica definida positiva, efectúa la descomposición de Cholesky: devuelve L tal que A=L.Lt\n",
    "def chol(A):\n",
    "    n = A.shape[0]-1\n",
    "    L = np.zeros(A.shape)\n",
    "    L[0, 0] = np.sqrt(A[0, 0])\n",
    "\n",
    "    for j in range(1, n+1):\n",
    "        L[j, 0] = A[j, 0] / L[0, 0]\n",
    "\n",
    "    for i in range(1, n+1):\n",
    "        L[i, i] = np.sqrt(A[i, i] - sum(L[i, p]**2 for p in range(i)))\n",
    "        if i != n:\n",
    "            for j in range(i+1, n+1):\n",
    "                L[j, i] = (A[j, i] - sum(L[i,p]*L[j,p] for p in range(i)))/ L[i, i]\n",
    "    return L\n",
    "\n",
    "\n",
    "# Sea L diagonal inferior, devuelve el resultado de Lx=b\n",
    "def sust_forward(L, b):\n",
    "    n = L.shape[0] - 1\n",
    "    sol = np.zeros(L.shape[0])\n",
    "    sol[0] = b[0]/L[0, 0]\n",
    "    for i in range(1, n+1):\n",
    "        sol[i] = (b[i] - sum(L[i,j]*sol[j] for j in range(i))) / L[i,i]\n",
    "    return sol\n",
    "\n",
    "\n",
    "# Sea L diagonal superior, devuelve el resultado de Lx=b\n",
    "def sust_backward(L, b):\n",
    "    n = L.shape[0] - 1\n",
    "    sol = np.zeros(L.shape[0])\n",
    "    sol[n] = b[n]/L[n, n]\n",
    "    for i in reversed(range(n)):\n",
    "        sol[i] = (b[i] - sum(L[i,j]*sol[j] for j in range(i+1,n+1))) / L[i,i]\n",
    "    return sol\n",
    "\n",
    "# Sea A simetrica definida positiva, devuelve el resultado de Ax=b\n",
    "def eq_lineal_chol(A, b):\n",
    "    L = chol(A)\n",
    "    y = sust_forward(L, b)\n",
    "    x = sust_backward(L.T, y)\n",
    "    return x"
   ]
  },
  {
   "cell_type": "code",
   "execution_count": null,
   "id": "bbd0ecf4",
   "metadata": {},
   "outputs": [],
   "source": [
    "# EJERCICIO 4 - GRAFICAR\n",
    "\n",
    "import numpy as np\n",
    "import matplotlib.pyplot as plt\n",
    "\n",
    "ktop = # Cantidad de iteraciones de BBR\n",
    "ks = np.arange(ktop)\n",
    "fs = # Lista con los valores de cada f(x_k)\n",
    "plt.plot(ks, np.array(fs))\n",
    "plt.show()"
   ]
  },
  {
   "cell_type": "code",
   "execution_count": null,
   "id": "46973d6d",
   "metadata": {},
   "outputs": [],
   "source": []
  },
  {
   "cell_type": "code",
   "execution_count": null,
   "id": "58c0502c",
   "metadata": {},
   "outputs": [],
   "source": [
    "# EJERCICIO 5 - FUNCIÓN BIRD Y SUS MINIMIZADORES\n",
    "\n",
    "def bird(x):\n",
    "    t1 = (x[0] - x[1])**2\n",
    "    t2 = np.sin(x[0])*np.exp((1-np.cos(x[1]))**2)\n",
    "    t3 = np.cos(x[1])*np.exp((1-np.sin(x[0]))**2)\n",
    "    return  t1 + t2 + t3 \n",
    "\n",
    "np.array([4.701055751981055,3.152946019601391])  \n",
    "np.array([-1.582142172055011,-3.130246799635430])"
   ]
  },
  {
   "cell_type": "code",
   "execution_count": null,
   "id": "7badbf2e",
   "metadata": {},
   "outputs": [],
   "source": []
  }
 ],
 "metadata": {
  "kernelspec": {
   "display_name": "Python 3.8.8 ('base')",
   "language": "python",
   "name": "python3"
  },
  "language_info": {
   "codemirror_mode": {
    "name": "ipython",
    "version": 3
   },
   "file_extension": ".py",
   "mimetype": "text/x-python",
   "name": "python",
   "nbconvert_exporter": "python",
   "pygments_lexer": "ipython3",
   "version": "3.8.8"
  },
  "vscode": {
   "interpreter": {
    "hash": "6f5583cf1d9466b5c27e75c89cc6b383bed5736d6b16c51c8074d8690011a952"
   }
  }
 },
 "nbformat": 4,
 "nbformat_minor": 5
}
